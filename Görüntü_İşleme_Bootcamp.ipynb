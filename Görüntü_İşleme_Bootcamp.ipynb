{
  "cells": [
    {
      "cell_type": "markdown",
      "metadata": {
        "id": "uf_KNZ1OsdMB"
      },
      "source": [
        "# **Adım 1: Gerekli Kütüphaneleri Yükleme**"
      ]
    },
    {
      "cell_type": "markdown",
      "metadata": {},
      "source": [
        "Gerekli kütüphaneleri yüklüyoruz.\n",
        "\n",
        "    •\tos ile dosya ve klasör işlemlerini yapabiliyoruz. Görüntülerin dizinlerden okunmasını kolaylaştırıyor.\n",
        "    •\tnumpy, verileri sayısal bir formatta işleyebilmemiz için diziler oluşturuyor.\n",
        "    •\tmatplotlib.pyplot ile grafikler çizip modelimizin performansını görselleştirebiliyoruz.\n",
        "    •\tcv2, görüntü işleme için çok güçlü bir araç. Görüntüleri okuyup işleyebiliyoruz.\n",
        "    •\tsklearn.model_selection’daki train_test_split ile veri setimizi eğitim ve test olarak ayırıyoruz.\n",
        "\n",
        "TensorFlow ve Keras araçlarını projeye dahil ediyoruz.\n",
        "\n",
        "    •\ttensorflow.keras.models.Sequential ile modelimizi adım adım oluşturabiliyoruz.\n",
        "    •\tConv2D ve MaxPooling2D ile evrişimsel katmanlar (CNN) ekliyoruz.\n",
        "    •\tFlatten veriyi düzleştiriyor, Dense ise tam bağlantılı katmanları oluşturuyor.\n",
        "    •\tDropout ile aşırı öğrenmeyi (overfitting) önlemek için nöronları rastgele devre dışı bırakıyoruz.\n",
        "\n",
        "Görüntüleri augment (veri artırma) etmek için ImageDataGenerator’ı ve optimizasyon için Adam optimizatörünü ekliyoruz.\n"
      ]
    },
    {
      "cell_type": "code",
      "execution_count": 2,
      "metadata": {
        "id": "ljer3QLGsmg3"
      },
      "outputs": [],
      "source": [
        "# Gerekli kütüphanelerin yüklenmesi\n",
        "import os\n",
        "import numpy as np\n",
        "import matplotlib.pyplot as plt\n",
        "import cv2\n",
        "from sklearn.model_selection import train_test_split\n",
        "import tensorflow as tf\n",
        "from tensorflow.keras.models import Sequential\n",
        "from tensorflow.keras.layers import Conv2D, MaxPooling2D, Flatten, Dense, Dropout\n",
        "from tensorflow.keras.preprocessing.image import ImageDataGenerator\n",
        "from tensorflow.keras.optimizers import Adam\n"
      ]
    },
    {
      "cell_type": "markdown",
      "metadata": {
        "id": "79ZevdNqN22b"
      },
      "source": [
        "# **Adım 2: On Hayvanın Ayıklanması**"
      ]
    },
    {
      "cell_type": "code",
      "execution_count": 3,
      "metadata": {
        "id": "5FOPNGRFCtsD"
      },
      "outputs": [
        {
          "name": "stdout",
          "output_type": "stream",
          "text": [
            "giant+panda: 874 images\n",
            "moose: 704 images\n",
            "fox: 664 images\n",
            "dolphin: 946 images\n",
            "polar+bear: 868 images\n",
            "sheep: 1420 images\n",
            "collie: 1028 images\n",
            "rabbit: 1088 images\n",
            "squirrel: 1200 images\n",
            "elephant: 1038 images\n"
          ]
        }
      ],
      "source": [
        "# Initialize the dictionary to hold paths for each animal\n",
        "image_paths = {}\n",
        "\n",
        "# Base directory for your dataset\n",
        "base_path = \"Animals_with_Attributes2/JPEGImages\"\n",
        "\n",
        "# List of animals to search for\n",
        "animals = [\"collie\", \"dolphin\", \"elephant\", \"fox\", \"moose\", \"rabbit\", \"sheep\", \"squirrel\", \"giant+panda\", \"polar+bear\"]\n",
        "\n",
        "# Traverse the directory structure\n",
        "for dirname, _, filenames in os.walk(base_path):\n",
        "    for animal in animals:\n",
        "        # Check if the current directory contains the animal's name\n",
        "        if animal in dirname:\n",
        "            # Initialize the list if the animal is encountered for the first time\n",
        "            if animal not in image_paths:\n",
        "                image_paths[animal] = []\n",
        "            # Add all image paths for the current animal\n",
        "            for filename in filenames:\n",
        "                image_paths[animal].append(os.path.join(dirname, filename))\n",
        "\n",
        "# Print the paths for verification\n",
        "for animal, paths in image_paths.items():\n",
        "    print(f\"{animal}: {len(paths)} images\")\n"
      ]
    },
    {
      "cell_type": "code",
      "execution_count": null,
      "metadata": {
        "collapsed": true,
        "id": "mWZAt6NgGC_t"
      },
      "outputs": [],
      "source": [
        "for animal, paths in image_paths.items():\n",
        "    print(f\"{animal}: {paths}\")"
      ]
    },
    {
      "cell_type": "markdown",
      "metadata": {
        "id": "d2xirT1Xu_KL"
      },
      "source": [
        "# **Adım 3: Sınıfları Hazırlama**"
      ]
    },
    {
      "cell_type": "code",
      "execution_count": 4,
      "metadata": {
        "colab": {
          "base_uri": "https://localhost:8080/"
        },
        "id": "wKKu4chcu39w",
        "outputId": "ac9b5b9f-ddd9-4d7e-c12c-a404e08213c8"
      },
      "outputs": [
        {
          "name": "stdout",
          "output_type": "stream",
          "text": [
            "Processing giant+panda...\n",
            "Processing moose...\n",
            "Processing fox...\n",
            "Processing dolphin...\n",
            "Processing polar+bear...\n",
            "Processing sheep...\n",
            "Processing collie...\n",
            "Processing rabbit...\n",
            "Processing squirrel...\n",
            "Processing elephant...\n",
            "Toplam görüntü sayısı: 6500\n",
            "Görüntü boyutu: (128, 128, 3)\n",
            "Etiketlerin boyutu: (6500,)\n"
          ]
        }
      ],
      "source": [
        "# Görüntü boyutu (örneğin, 128x128)\n",
        "image_size = (128, 128)\n",
        "\n",
        "# Eğitim ve test setleri için boş listeler\n",
        "X = []\n",
        "y = []\n",
        "\n",
        "# Hayvan etiketlerini sayısal değerlere eşleştirme\n",
        "animal_to_label = {animal: i for i, animal in enumerate(animals)}\n",
        "\n",
        "# Her sınıftan 650 görüntü al\n",
        "for animal, paths in image_paths.items():\n",
        "    print(f\"Processing {animal}...\")\n",
        "    # İlk 650 görüntüyü seç\n",
        "    selected_paths = paths[:650]\n",
        "    for path in selected_paths:\n",
        "        # Görüntüyü okuma\n",
        "        img = cv2.imread(path)\n",
        "        if img is not None:\n",
        "            # Görüntüyü yeniden boyutlandır ve normalize et\n",
        "            img_resized = cv2.resize(img, image_size)\n",
        "            img_normalized = img_resized / 255.0\n",
        "            # X listesine ekle\n",
        "            X.append(img_normalized)\n",
        "            # y listesine sınıf etiketini ekle\n",
        "            y.append(animal_to_label[animal])\n",
        "\n",
        "# X ve y'yi numpy dizilerine dönüştürme\n",
        "X = np.array(X)\n",
        "y = np.array(y)\n",
        "\n",
        "print(f\"Toplam görüntü sayısı: {X.shape[0]}\")\n",
        "print(f\"Görüntü boyutu: {X.shape[1:]}\")\n",
        "print(f\"Etiketlerin boyutu: {y.shape}\")"
      ]
    },
    {
      "cell_type": "markdown",
      "metadata": {
        "id": "XKyT4iDovas-"
      },
      "source": [
        "# **Adım 4: Veriyi Eğitim ve Test Setlerine Ayırma**"
      ]
    },
    {
      "cell_type": "markdown",
      "metadata": {},
      "source": [
        "Bu kodda, elimizdeki veriyi %70 eğitim ve %30 test olarak ikiye ayırıyoruz. Bunu, CNN modelimizi eğitmek ve test etmek için yapıyoruz. train_test_split fonksiyonu sayesinde giriş verileri (X) ve etiketleri (y) rastgele bir şekilde ayrılıyor. Son olarak, veri boyutlarını ekrana yazdırarak kontrol ediyoruz."
      ]
    },
    {
      "cell_type": "code",
      "execution_count": 5,
      "metadata": {
        "colab": {
          "base_uri": "https://localhost:8080/"
        },
        "id": "ZW2kJmTfs_rV",
        "outputId": "5d67b547-b4be-4e54-91b5-9c38cdabe495"
      },
      "outputs": [
        {
          "name": "stdout",
          "output_type": "stream",
          "text": [
            "Eğitim veri boyutu: (4550, 128, 128, 3), Etiket boyutu: (4550,)\n",
            "Test veri boyutu: (1950, 128, 128, 3), Etiket boyutu: (1950,)\n"
          ]
        }
      ],
      "source": [
        "# Veriyi %70 eğitim ve %30 test olarak ayır\n",
        "X_train, X_test, y_train, y_test = train_test_split(X, y, test_size=0.3, random_state=42)\n",
        "\n",
        "print(f\"Eğitim veri boyutu: {X_train.shape}, Etiket boyutu: {y_train.shape}\")\n",
        "print(f\"Test veri boyutu: {X_test.shape}, Etiket boyutu: {y_test.shape}\")"
      ]
    },
    {
      "cell_type": "markdown",
      "metadata": {
        "id": "trzLmTMvv4gy"
      },
      "source": [
        "# **Adım 5: Veri Artırma (Augmentation)**"
      ]
    },
    {
      "cell_type": "markdown",
      "metadata": {},
      "source": [
        "Bu adımda, eğitim verilerimizi çeşitlendirmek için veri artırımı (data augmentation) işlemi yapıyoruz.\n",
        "Neler yapıyoruz?\n",
        "\n",
        "\t1.\tGörüntüler üzerinde dönüş (rotation), kaydırma (shift), yakınlaştırma (zoom), ve yatay çevirme (horizontal flip) gibi rastgele değişiklikler uygulayarak veri setimizi genişletiyoruz.\n",
        "\t2.\tImageDataGenerator ile bu işlemleri tanımlıyoruz.\n",
        "\t3.\tEğitim verisini artırıma uygun hale getirmek için datagen.fit(X_train) kullanıyoruz.\n",
        "\n",
        "Bu işlemin amacı, modelin farklı varyasyonlarla daha iyi genelleme yapabilmesini sağlamak."
      ]
    },
    {
      "cell_type": "code",
      "execution_count": 8,
      "metadata": {
        "colab": {
          "base_uri": "https://localhost:8080/"
        },
        "id": "imMvnSWYv7QD",
        "outputId": "8b112838-03be-4d63-f982-3771bce3f865"
      },
      "outputs": [
        {
          "name": "stdout",
          "output_type": "stream",
          "text": [
            "Veri artırma işlemi tamamlandı.\n"
          ]
        }
      ],
      "source": [
        "# Veri artırımı işlemleri\n",
        "datagen = ImageDataGenerator(\n",
        "    rotation_range=20,\n",
        "    width_shift_range=0.2,\n",
        "    height_shift_range=0.2,\n",
        "    zoom_range=0.2,\n",
        "    horizontal_flip=True,\n",
        ")\n",
        "\n",
        "# Eğitim verisine veri artırımı uygulama\n",
        "datagen.fit(X_train)\n",
        "\n",
        "print(\"Veri artırma işlemi tamamlandı.\")"
      ]
    },
    {
      "cell_type": "markdown",
      "metadata": {
        "id": "rbU4b6y7wNom"
      },
      "source": [
        "# **Adım 6: CNN Modelinin Tasarımı**"
      ]
    },
    {
      "cell_type": "markdown",
      "metadata": {},
      "source": [
        "Bu kodda, bir Convolutional Neural Network (CNN) modeli tasarlıyoruz ve sınıflandırma problemi için derliyoruz.\n",
        "\n",
        "CNN Modelini Oluşturuyoruz\n",
        "\n",
        "\t•\tKonvolüsyon Katmanları (Conv2D): Görsellerin özelliklerini öğrenen katmanlar ekliyoruz. Katmanlar giderek daha fazla filtre içeriyor (32, 64, 128, 256), bu da modelin daha karmaşık özellikleri öğrenmesini sağlıyor.\n",
        "\t•\tBatch Normalization: Katmanların aktivasyon çıktısını normalize ederek eğitim sürecini hızlandırıyoruz ve daha kararlı hale getiriyoruz.\n",
        "\t•\tMaxPooling: Görüntünün boyutunu küçültüp önemli bilgileri koruyoruz.\n",
        "\t•\tDropout: Rastgele nöronları devre dışı bırakarak overfitting’i azaltıyoruz.\n",
        "\t•\tFlatten: Konvolüsyon katmanlarından gelen veriyi tam bağlantılı katmanlara uygun hale getiriyoruz.\n",
        "\t•\tDense (Tam Bağlantılı Katmanlar): Sınıflandırma için son aşamada nöronları birleştiriyoruz. Çıkışta, her sınıf için bir olasılık veren softmax aktivasyonu kullanıyoruz.\n",
        "\n",
        "Modeli Derliyoruz\n",
        "\n",
        "\t•\tOptimizasyon: adam optimizatörüyle ağırlıkları öğreniyoruz.\n",
        "\t•\tKayıp Fonksiyonu: sparse_categorical_crossentropy kullanarak çok sınıflı sınıflandırma hatasını ölçüyoruz.\n",
        "\t•\tMetrik: Eğitim sırasında doğruluk oranını (accuracy) takip ediyoruz.\n",
        "\n",
        "Modelin Özeti\n",
        "\n",
        "\t•\tmodel.summary() ile katmanların detaylarını, toplam parametre sayısını ve modelin yapısını inceliyoruz. Bu, modelin büyüklüğünü ve hesaplama gereksinimlerini anlamak için önemli.\n"
      ]
    },
    {
      "cell_type": "code",
      "execution_count": 9,
      "metadata": {
        "colab": {
          "base_uri": "https://localhost:8080/",
          "height": 529
        },
        "id": "z2j6XE6evyLF",
        "outputId": "0581af59-1f43-4fee-e060-78a85285e5bc"
      },
      "outputs": [
        {
          "name": "stderr",
          "output_type": "stream",
          "text": [
            "/opt/homebrew/lib/python3.10/site-packages/keras/src/layers/convolutional/base_conv.py:107: UserWarning: Do not pass an `input_shape`/`input_dim` argument to a layer. When using Sequential models, prefer using an `Input(shape)` object as the first layer in the model instead.\n",
            "  super().__init__(activity_regularizer=activity_regularizer, **kwargs)\n"
          ]
        },
        {
          "data": {
            "text/html": [
              "<pre style=\"white-space:pre;overflow-x:auto;line-height:normal;font-family:Menlo,'DejaVu Sans Mono',consolas,'Courier New',monospace\"><span style=\"font-weight: bold\">Model: \"sequential_1\"</span>\n",
              "</pre>\n"
            ],
            "text/plain": [
              "\u001b[1mModel: \"sequential_1\"\u001b[0m\n"
            ]
          },
          "metadata": {},
          "output_type": "display_data"
        },
        {
          "data": {
            "text/html": [
              "<pre style=\"white-space:pre;overflow-x:auto;line-height:normal;font-family:Menlo,'DejaVu Sans Mono',consolas,'Courier New',monospace\">┏━━━━━━━━━━━━━━━━━━━━━━━━━━━━━━━━━┳━━━━━━━━━━━━━━━━━━━━━━━━┳━━━━━━━━━━━━━━━┓\n",
              "┃<span style=\"font-weight: bold\"> Layer (type)                    </span>┃<span style=\"font-weight: bold\"> Output Shape           </span>┃<span style=\"font-weight: bold\">       Param # </span>┃\n",
              "┡━━━━━━━━━━━━━━━━━━━━━━━━━━━━━━━━━╇━━━━━━━━━━━━━━━━━━━━━━━━╇━━━━━━━━━━━━━━━┩\n",
              "│ conv2d_4 (<span style=\"color: #0087ff; text-decoration-color: #0087ff\">Conv2D</span>)               │ (<span style=\"color: #00d7ff; text-decoration-color: #00d7ff\">None</span>, <span style=\"color: #00af00; text-decoration-color: #00af00\">126</span>, <span style=\"color: #00af00; text-decoration-color: #00af00\">126</span>, <span style=\"color: #00af00; text-decoration-color: #00af00\">32</span>)   │           <span style=\"color: #00af00; text-decoration-color: #00af00\">896</span> │\n",
              "├─────────────────────────────────┼────────────────────────┼───────────────┤\n",
              "│ batch_normalization_6           │ (<span style=\"color: #00d7ff; text-decoration-color: #00d7ff\">None</span>, <span style=\"color: #00af00; text-decoration-color: #00af00\">126</span>, <span style=\"color: #00af00; text-decoration-color: #00af00\">126</span>, <span style=\"color: #00af00; text-decoration-color: #00af00\">32</span>)   │           <span style=\"color: #00af00; text-decoration-color: #00af00\">128</span> │\n",
              "│ (<span style=\"color: #0087ff; text-decoration-color: #0087ff\">BatchNormalization</span>)            │                        │               │\n",
              "├─────────────────────────────────┼────────────────────────┼───────────────┤\n",
              "│ max_pooling2d_4 (<span style=\"color: #0087ff; text-decoration-color: #0087ff\">MaxPooling2D</span>)  │ (<span style=\"color: #00d7ff; text-decoration-color: #00d7ff\">None</span>, <span style=\"color: #00af00; text-decoration-color: #00af00\">63</span>, <span style=\"color: #00af00; text-decoration-color: #00af00\">63</span>, <span style=\"color: #00af00; text-decoration-color: #00af00\">32</span>)     │             <span style=\"color: #00af00; text-decoration-color: #00af00\">0</span> │\n",
              "├─────────────────────────────────┼────────────────────────┼───────────────┤\n",
              "│ dropout_6 (<span style=\"color: #0087ff; text-decoration-color: #0087ff\">Dropout</span>)             │ (<span style=\"color: #00d7ff; text-decoration-color: #00d7ff\">None</span>, <span style=\"color: #00af00; text-decoration-color: #00af00\">63</span>, <span style=\"color: #00af00; text-decoration-color: #00af00\">63</span>, <span style=\"color: #00af00; text-decoration-color: #00af00\">32</span>)     │             <span style=\"color: #00af00; text-decoration-color: #00af00\">0</span> │\n",
              "├─────────────────────────────────┼────────────────────────┼───────────────┤\n",
              "│ conv2d_5 (<span style=\"color: #0087ff; text-decoration-color: #0087ff\">Conv2D</span>)               │ (<span style=\"color: #00d7ff; text-decoration-color: #00d7ff\">None</span>, <span style=\"color: #00af00; text-decoration-color: #00af00\">61</span>, <span style=\"color: #00af00; text-decoration-color: #00af00\">61</span>, <span style=\"color: #00af00; text-decoration-color: #00af00\">64</span>)     │        <span style=\"color: #00af00; text-decoration-color: #00af00\">18,496</span> │\n",
              "├─────────────────────────────────┼────────────────────────┼───────────────┤\n",
              "│ batch_normalization_7           │ (<span style=\"color: #00d7ff; text-decoration-color: #00d7ff\">None</span>, <span style=\"color: #00af00; text-decoration-color: #00af00\">61</span>, <span style=\"color: #00af00; text-decoration-color: #00af00\">61</span>, <span style=\"color: #00af00; text-decoration-color: #00af00\">64</span>)     │           <span style=\"color: #00af00; text-decoration-color: #00af00\">256</span> │\n",
              "│ (<span style=\"color: #0087ff; text-decoration-color: #0087ff\">BatchNormalization</span>)            │                        │               │\n",
              "├─────────────────────────────────┼────────────────────────┼───────────────┤\n",
              "│ max_pooling2d_5 (<span style=\"color: #0087ff; text-decoration-color: #0087ff\">MaxPooling2D</span>)  │ (<span style=\"color: #00d7ff; text-decoration-color: #00d7ff\">None</span>, <span style=\"color: #00af00; text-decoration-color: #00af00\">30</span>, <span style=\"color: #00af00; text-decoration-color: #00af00\">30</span>, <span style=\"color: #00af00; text-decoration-color: #00af00\">64</span>)     │             <span style=\"color: #00af00; text-decoration-color: #00af00\">0</span> │\n",
              "├─────────────────────────────────┼────────────────────────┼───────────────┤\n",
              "│ dropout_7 (<span style=\"color: #0087ff; text-decoration-color: #0087ff\">Dropout</span>)             │ (<span style=\"color: #00d7ff; text-decoration-color: #00d7ff\">None</span>, <span style=\"color: #00af00; text-decoration-color: #00af00\">30</span>, <span style=\"color: #00af00; text-decoration-color: #00af00\">30</span>, <span style=\"color: #00af00; text-decoration-color: #00af00\">64</span>)     │             <span style=\"color: #00af00; text-decoration-color: #00af00\">0</span> │\n",
              "├─────────────────────────────────┼────────────────────────┼───────────────┤\n",
              "│ conv2d_6 (<span style=\"color: #0087ff; text-decoration-color: #0087ff\">Conv2D</span>)               │ (<span style=\"color: #00d7ff; text-decoration-color: #00d7ff\">None</span>, <span style=\"color: #00af00; text-decoration-color: #00af00\">28</span>, <span style=\"color: #00af00; text-decoration-color: #00af00\">28</span>, <span style=\"color: #00af00; text-decoration-color: #00af00\">128</span>)    │        <span style=\"color: #00af00; text-decoration-color: #00af00\">73,856</span> │\n",
              "├─────────────────────────────────┼────────────────────────┼───────────────┤\n",
              "│ batch_normalization_8           │ (<span style=\"color: #00d7ff; text-decoration-color: #00d7ff\">None</span>, <span style=\"color: #00af00; text-decoration-color: #00af00\">28</span>, <span style=\"color: #00af00; text-decoration-color: #00af00\">28</span>, <span style=\"color: #00af00; text-decoration-color: #00af00\">128</span>)    │           <span style=\"color: #00af00; text-decoration-color: #00af00\">512</span> │\n",
              "│ (<span style=\"color: #0087ff; text-decoration-color: #0087ff\">BatchNormalization</span>)            │                        │               │\n",
              "├─────────────────────────────────┼────────────────────────┼───────────────┤\n",
              "│ max_pooling2d_6 (<span style=\"color: #0087ff; text-decoration-color: #0087ff\">MaxPooling2D</span>)  │ (<span style=\"color: #00d7ff; text-decoration-color: #00d7ff\">None</span>, <span style=\"color: #00af00; text-decoration-color: #00af00\">14</span>, <span style=\"color: #00af00; text-decoration-color: #00af00\">14</span>, <span style=\"color: #00af00; text-decoration-color: #00af00\">128</span>)    │             <span style=\"color: #00af00; text-decoration-color: #00af00\">0</span> │\n",
              "├─────────────────────────────────┼────────────────────────┼───────────────┤\n",
              "│ dropout_8 (<span style=\"color: #0087ff; text-decoration-color: #0087ff\">Dropout</span>)             │ (<span style=\"color: #00d7ff; text-decoration-color: #00d7ff\">None</span>, <span style=\"color: #00af00; text-decoration-color: #00af00\">14</span>, <span style=\"color: #00af00; text-decoration-color: #00af00\">14</span>, <span style=\"color: #00af00; text-decoration-color: #00af00\">128</span>)    │             <span style=\"color: #00af00; text-decoration-color: #00af00\">0</span> │\n",
              "├─────────────────────────────────┼────────────────────────┼───────────────┤\n",
              "│ conv2d_7 (<span style=\"color: #0087ff; text-decoration-color: #0087ff\">Conv2D</span>)               │ (<span style=\"color: #00d7ff; text-decoration-color: #00d7ff\">None</span>, <span style=\"color: #00af00; text-decoration-color: #00af00\">12</span>, <span style=\"color: #00af00; text-decoration-color: #00af00\">12</span>, <span style=\"color: #00af00; text-decoration-color: #00af00\">256</span>)    │       <span style=\"color: #00af00; text-decoration-color: #00af00\">295,168</span> │\n",
              "├─────────────────────────────────┼────────────────────────┼───────────────┤\n",
              "│ batch_normalization_9           │ (<span style=\"color: #00d7ff; text-decoration-color: #00d7ff\">None</span>, <span style=\"color: #00af00; text-decoration-color: #00af00\">12</span>, <span style=\"color: #00af00; text-decoration-color: #00af00\">12</span>, <span style=\"color: #00af00; text-decoration-color: #00af00\">256</span>)    │         <span style=\"color: #00af00; text-decoration-color: #00af00\">1,024</span> │\n",
              "│ (<span style=\"color: #0087ff; text-decoration-color: #0087ff\">BatchNormalization</span>)            │                        │               │\n",
              "├─────────────────────────────────┼────────────────────────┼───────────────┤\n",
              "│ max_pooling2d_7 (<span style=\"color: #0087ff; text-decoration-color: #0087ff\">MaxPooling2D</span>)  │ (<span style=\"color: #00d7ff; text-decoration-color: #00d7ff\">None</span>, <span style=\"color: #00af00; text-decoration-color: #00af00\">6</span>, <span style=\"color: #00af00; text-decoration-color: #00af00\">6</span>, <span style=\"color: #00af00; text-decoration-color: #00af00\">256</span>)      │             <span style=\"color: #00af00; text-decoration-color: #00af00\">0</span> │\n",
              "├─────────────────────────────────┼────────────────────────┼───────────────┤\n",
              "│ dropout_9 (<span style=\"color: #0087ff; text-decoration-color: #0087ff\">Dropout</span>)             │ (<span style=\"color: #00d7ff; text-decoration-color: #00d7ff\">None</span>, <span style=\"color: #00af00; text-decoration-color: #00af00\">6</span>, <span style=\"color: #00af00; text-decoration-color: #00af00\">6</span>, <span style=\"color: #00af00; text-decoration-color: #00af00\">256</span>)      │             <span style=\"color: #00af00; text-decoration-color: #00af00\">0</span> │\n",
              "├─────────────────────────────────┼────────────────────────┼───────────────┤\n",
              "│ flatten_1 (<span style=\"color: #0087ff; text-decoration-color: #0087ff\">Flatten</span>)             │ (<span style=\"color: #00d7ff; text-decoration-color: #00d7ff\">None</span>, <span style=\"color: #00af00; text-decoration-color: #00af00\">9216</span>)           │             <span style=\"color: #00af00; text-decoration-color: #00af00\">0</span> │\n",
              "├─────────────────────────────────┼────────────────────────┼───────────────┤\n",
              "│ dense_3 (<span style=\"color: #0087ff; text-decoration-color: #0087ff\">Dense</span>)                 │ (<span style=\"color: #00d7ff; text-decoration-color: #00d7ff\">None</span>, <span style=\"color: #00af00; text-decoration-color: #00af00\">256</span>)            │     <span style=\"color: #00af00; text-decoration-color: #00af00\">2,359,552</span> │\n",
              "├─────────────────────────────────┼────────────────────────┼───────────────┤\n",
              "│ batch_normalization_10          │ (<span style=\"color: #00d7ff; text-decoration-color: #00d7ff\">None</span>, <span style=\"color: #00af00; text-decoration-color: #00af00\">256</span>)            │         <span style=\"color: #00af00; text-decoration-color: #00af00\">1,024</span> │\n",
              "│ (<span style=\"color: #0087ff; text-decoration-color: #0087ff\">BatchNormalization</span>)            │                        │               │\n",
              "├─────────────────────────────────┼────────────────────────┼───────────────┤\n",
              "│ dropout_10 (<span style=\"color: #0087ff; text-decoration-color: #0087ff\">Dropout</span>)            │ (<span style=\"color: #00d7ff; text-decoration-color: #00d7ff\">None</span>, <span style=\"color: #00af00; text-decoration-color: #00af00\">256</span>)            │             <span style=\"color: #00af00; text-decoration-color: #00af00\">0</span> │\n",
              "├─────────────────────────────────┼────────────────────────┼───────────────┤\n",
              "│ dense_4 (<span style=\"color: #0087ff; text-decoration-color: #0087ff\">Dense</span>)                 │ (<span style=\"color: #00d7ff; text-decoration-color: #00d7ff\">None</span>, <span style=\"color: #00af00; text-decoration-color: #00af00\">128</span>)            │        <span style=\"color: #00af00; text-decoration-color: #00af00\">32,896</span> │\n",
              "├─────────────────────────────────┼────────────────────────┼───────────────┤\n",
              "│ batch_normalization_11          │ (<span style=\"color: #00d7ff; text-decoration-color: #00d7ff\">None</span>, <span style=\"color: #00af00; text-decoration-color: #00af00\">128</span>)            │           <span style=\"color: #00af00; text-decoration-color: #00af00\">512</span> │\n",
              "│ (<span style=\"color: #0087ff; text-decoration-color: #0087ff\">BatchNormalization</span>)            │                        │               │\n",
              "├─────────────────────────────────┼────────────────────────┼───────────────┤\n",
              "│ dropout_11 (<span style=\"color: #0087ff; text-decoration-color: #0087ff\">Dropout</span>)            │ (<span style=\"color: #00d7ff; text-decoration-color: #00d7ff\">None</span>, <span style=\"color: #00af00; text-decoration-color: #00af00\">128</span>)            │             <span style=\"color: #00af00; text-decoration-color: #00af00\">0</span> │\n",
              "├─────────────────────────────────┼────────────────────────┼───────────────┤\n",
              "│ dense_5 (<span style=\"color: #0087ff; text-decoration-color: #0087ff\">Dense</span>)                 │ (<span style=\"color: #00d7ff; text-decoration-color: #00d7ff\">None</span>, <span style=\"color: #00af00; text-decoration-color: #00af00\">10</span>)             │         <span style=\"color: #00af00; text-decoration-color: #00af00\">1,290</span> │\n",
              "└─────────────────────────────────┴────────────────────────┴───────────────┘\n",
              "</pre>\n"
            ],
            "text/plain": [
              "┏━━━━━━━━━━━━━━━━━━━━━━━━━━━━━━━━━┳━━━━━━━━━━━━━━━━━━━━━━━━┳━━━━━━━━━━━━━━━┓\n",
              "┃\u001b[1m \u001b[0m\u001b[1mLayer (type)                   \u001b[0m\u001b[1m \u001b[0m┃\u001b[1m \u001b[0m\u001b[1mOutput Shape          \u001b[0m\u001b[1m \u001b[0m┃\u001b[1m \u001b[0m\u001b[1m      Param #\u001b[0m\u001b[1m \u001b[0m┃\n",
              "┡━━━━━━━━━━━━━━━━━━━━━━━━━━━━━━━━━╇━━━━━━━━━━━━━━━━━━━━━━━━╇━━━━━━━━━━━━━━━┩\n",
              "│ conv2d_4 (\u001b[38;5;33mConv2D\u001b[0m)               │ (\u001b[38;5;45mNone\u001b[0m, \u001b[38;5;34m126\u001b[0m, \u001b[38;5;34m126\u001b[0m, \u001b[38;5;34m32\u001b[0m)   │           \u001b[38;5;34m896\u001b[0m │\n",
              "├─────────────────────────────────┼────────────────────────┼───────────────┤\n",
              "│ batch_normalization_6           │ (\u001b[38;5;45mNone\u001b[0m, \u001b[38;5;34m126\u001b[0m, \u001b[38;5;34m126\u001b[0m, \u001b[38;5;34m32\u001b[0m)   │           \u001b[38;5;34m128\u001b[0m │\n",
              "│ (\u001b[38;5;33mBatchNormalization\u001b[0m)            │                        │               │\n",
              "├─────────────────────────────────┼────────────────────────┼───────────────┤\n",
              "│ max_pooling2d_4 (\u001b[38;5;33mMaxPooling2D\u001b[0m)  │ (\u001b[38;5;45mNone\u001b[0m, \u001b[38;5;34m63\u001b[0m, \u001b[38;5;34m63\u001b[0m, \u001b[38;5;34m32\u001b[0m)     │             \u001b[38;5;34m0\u001b[0m │\n",
              "├─────────────────────────────────┼────────────────────────┼───────────────┤\n",
              "│ dropout_6 (\u001b[38;5;33mDropout\u001b[0m)             │ (\u001b[38;5;45mNone\u001b[0m, \u001b[38;5;34m63\u001b[0m, \u001b[38;5;34m63\u001b[0m, \u001b[38;5;34m32\u001b[0m)     │             \u001b[38;5;34m0\u001b[0m │\n",
              "├─────────────────────────────────┼────────────────────────┼───────────────┤\n",
              "│ conv2d_5 (\u001b[38;5;33mConv2D\u001b[0m)               │ (\u001b[38;5;45mNone\u001b[0m, \u001b[38;5;34m61\u001b[0m, \u001b[38;5;34m61\u001b[0m, \u001b[38;5;34m64\u001b[0m)     │        \u001b[38;5;34m18,496\u001b[0m │\n",
              "├─────────────────────────────────┼────────────────────────┼───────────────┤\n",
              "│ batch_normalization_7           │ (\u001b[38;5;45mNone\u001b[0m, \u001b[38;5;34m61\u001b[0m, \u001b[38;5;34m61\u001b[0m, \u001b[38;5;34m64\u001b[0m)     │           \u001b[38;5;34m256\u001b[0m │\n",
              "│ (\u001b[38;5;33mBatchNormalization\u001b[0m)            │                        │               │\n",
              "├─────────────────────────────────┼────────────────────────┼───────────────┤\n",
              "│ max_pooling2d_5 (\u001b[38;5;33mMaxPooling2D\u001b[0m)  │ (\u001b[38;5;45mNone\u001b[0m, \u001b[38;5;34m30\u001b[0m, \u001b[38;5;34m30\u001b[0m, \u001b[38;5;34m64\u001b[0m)     │             \u001b[38;5;34m0\u001b[0m │\n",
              "├─────────────────────────────────┼────────────────────────┼───────────────┤\n",
              "│ dropout_7 (\u001b[38;5;33mDropout\u001b[0m)             │ (\u001b[38;5;45mNone\u001b[0m, \u001b[38;5;34m30\u001b[0m, \u001b[38;5;34m30\u001b[0m, \u001b[38;5;34m64\u001b[0m)     │             \u001b[38;5;34m0\u001b[0m │\n",
              "├─────────────────────────────────┼────────────────────────┼───────────────┤\n",
              "│ conv2d_6 (\u001b[38;5;33mConv2D\u001b[0m)               │ (\u001b[38;5;45mNone\u001b[0m, \u001b[38;5;34m28\u001b[0m, \u001b[38;5;34m28\u001b[0m, \u001b[38;5;34m128\u001b[0m)    │        \u001b[38;5;34m73,856\u001b[0m │\n",
              "├─────────────────────────────────┼────────────────────────┼───────────────┤\n",
              "│ batch_normalization_8           │ (\u001b[38;5;45mNone\u001b[0m, \u001b[38;5;34m28\u001b[0m, \u001b[38;5;34m28\u001b[0m, \u001b[38;5;34m128\u001b[0m)    │           \u001b[38;5;34m512\u001b[0m │\n",
              "│ (\u001b[38;5;33mBatchNormalization\u001b[0m)            │                        │               │\n",
              "├─────────────────────────────────┼────────────────────────┼───────────────┤\n",
              "│ max_pooling2d_6 (\u001b[38;5;33mMaxPooling2D\u001b[0m)  │ (\u001b[38;5;45mNone\u001b[0m, \u001b[38;5;34m14\u001b[0m, \u001b[38;5;34m14\u001b[0m, \u001b[38;5;34m128\u001b[0m)    │             \u001b[38;5;34m0\u001b[0m │\n",
              "├─────────────────────────────────┼────────────────────────┼───────────────┤\n",
              "│ dropout_8 (\u001b[38;5;33mDropout\u001b[0m)             │ (\u001b[38;5;45mNone\u001b[0m, \u001b[38;5;34m14\u001b[0m, \u001b[38;5;34m14\u001b[0m, \u001b[38;5;34m128\u001b[0m)    │             \u001b[38;5;34m0\u001b[0m │\n",
              "├─────────────────────────────────┼────────────────────────┼───────────────┤\n",
              "│ conv2d_7 (\u001b[38;5;33mConv2D\u001b[0m)               │ (\u001b[38;5;45mNone\u001b[0m, \u001b[38;5;34m12\u001b[0m, \u001b[38;5;34m12\u001b[0m, \u001b[38;5;34m256\u001b[0m)    │       \u001b[38;5;34m295,168\u001b[0m │\n",
              "├─────────────────────────────────┼────────────────────────┼───────────────┤\n",
              "│ batch_normalization_9           │ (\u001b[38;5;45mNone\u001b[0m, \u001b[38;5;34m12\u001b[0m, \u001b[38;5;34m12\u001b[0m, \u001b[38;5;34m256\u001b[0m)    │         \u001b[38;5;34m1,024\u001b[0m │\n",
              "│ (\u001b[38;5;33mBatchNormalization\u001b[0m)            │                        │               │\n",
              "├─────────────────────────────────┼────────────────────────┼───────────────┤\n",
              "│ max_pooling2d_7 (\u001b[38;5;33mMaxPooling2D\u001b[0m)  │ (\u001b[38;5;45mNone\u001b[0m, \u001b[38;5;34m6\u001b[0m, \u001b[38;5;34m6\u001b[0m, \u001b[38;5;34m256\u001b[0m)      │             \u001b[38;5;34m0\u001b[0m │\n",
              "├─────────────────────────────────┼────────────────────────┼───────────────┤\n",
              "│ dropout_9 (\u001b[38;5;33mDropout\u001b[0m)             │ (\u001b[38;5;45mNone\u001b[0m, \u001b[38;5;34m6\u001b[0m, \u001b[38;5;34m6\u001b[0m, \u001b[38;5;34m256\u001b[0m)      │             \u001b[38;5;34m0\u001b[0m │\n",
              "├─────────────────────────────────┼────────────────────────┼───────────────┤\n",
              "│ flatten_1 (\u001b[38;5;33mFlatten\u001b[0m)             │ (\u001b[38;5;45mNone\u001b[0m, \u001b[38;5;34m9216\u001b[0m)           │             \u001b[38;5;34m0\u001b[0m │\n",
              "├─────────────────────────────────┼────────────────────────┼───────────────┤\n",
              "│ dense_3 (\u001b[38;5;33mDense\u001b[0m)                 │ (\u001b[38;5;45mNone\u001b[0m, \u001b[38;5;34m256\u001b[0m)            │     \u001b[38;5;34m2,359,552\u001b[0m │\n",
              "├─────────────────────────────────┼────────────────────────┼───────────────┤\n",
              "│ batch_normalization_10          │ (\u001b[38;5;45mNone\u001b[0m, \u001b[38;5;34m256\u001b[0m)            │         \u001b[38;5;34m1,024\u001b[0m │\n",
              "│ (\u001b[38;5;33mBatchNormalization\u001b[0m)            │                        │               │\n",
              "├─────────────────────────────────┼────────────────────────┼───────────────┤\n",
              "│ dropout_10 (\u001b[38;5;33mDropout\u001b[0m)            │ (\u001b[38;5;45mNone\u001b[0m, \u001b[38;5;34m256\u001b[0m)            │             \u001b[38;5;34m0\u001b[0m │\n",
              "├─────────────────────────────────┼────────────────────────┼───────────────┤\n",
              "│ dense_4 (\u001b[38;5;33mDense\u001b[0m)                 │ (\u001b[38;5;45mNone\u001b[0m, \u001b[38;5;34m128\u001b[0m)            │        \u001b[38;5;34m32,896\u001b[0m │\n",
              "├─────────────────────────────────┼────────────────────────┼───────────────┤\n",
              "│ batch_normalization_11          │ (\u001b[38;5;45mNone\u001b[0m, \u001b[38;5;34m128\u001b[0m)            │           \u001b[38;5;34m512\u001b[0m │\n",
              "│ (\u001b[38;5;33mBatchNormalization\u001b[0m)            │                        │               │\n",
              "├─────────────────────────────────┼────────────────────────┼───────────────┤\n",
              "│ dropout_11 (\u001b[38;5;33mDropout\u001b[0m)            │ (\u001b[38;5;45mNone\u001b[0m, \u001b[38;5;34m128\u001b[0m)            │             \u001b[38;5;34m0\u001b[0m │\n",
              "├─────────────────────────────────┼────────────────────────┼───────────────┤\n",
              "│ dense_5 (\u001b[38;5;33mDense\u001b[0m)                 │ (\u001b[38;5;45mNone\u001b[0m, \u001b[38;5;34m10\u001b[0m)             │         \u001b[38;5;34m1,290\u001b[0m │\n",
              "└─────────────────────────────────┴────────────────────────┴───────────────┘\n"
            ]
          },
          "metadata": {},
          "output_type": "display_data"
        },
        {
          "data": {
            "text/html": [
              "<pre style=\"white-space:pre;overflow-x:auto;line-height:normal;font-family:Menlo,'DejaVu Sans Mono',consolas,'Courier New',monospace\"><span style=\"font-weight: bold\"> Total params: </span><span style=\"color: #00af00; text-decoration-color: #00af00\">2,785,610</span> (10.63 MB)\n",
              "</pre>\n"
            ],
            "text/plain": [
              "\u001b[1m Total params: \u001b[0m\u001b[38;5;34m2,785,610\u001b[0m (10.63 MB)\n"
            ]
          },
          "metadata": {},
          "output_type": "display_data"
        },
        {
          "data": {
            "text/html": [
              "<pre style=\"white-space:pre;overflow-x:auto;line-height:normal;font-family:Menlo,'DejaVu Sans Mono',consolas,'Courier New',monospace\"><span style=\"font-weight: bold\"> Trainable params: </span><span style=\"color: #00af00; text-decoration-color: #00af00\">2,783,882</span> (10.62 MB)\n",
              "</pre>\n"
            ],
            "text/plain": [
              "\u001b[1m Trainable params: \u001b[0m\u001b[38;5;34m2,783,882\u001b[0m (10.62 MB)\n"
            ]
          },
          "metadata": {},
          "output_type": "display_data"
        },
        {
          "data": {
            "text/html": [
              "<pre style=\"white-space:pre;overflow-x:auto;line-height:normal;font-family:Menlo,'DejaVu Sans Mono',consolas,'Courier New',monospace\"><span style=\"font-weight: bold\"> Non-trainable params: </span><span style=\"color: #00af00; text-decoration-color: #00af00\">1,728</span> (6.75 KB)\n",
              "</pre>\n"
            ],
            "text/plain": [
              "\u001b[1m Non-trainable params: \u001b[0m\u001b[38;5;34m1,728\u001b[0m (6.75 KB)\n"
            ]
          },
          "metadata": {},
          "output_type": "display_data"
        }
      ],
      "source": [
        "from tensorflow.keras.layers import BatchNormalization\n",
        "\n",
        "# CNN modelini oluştur\n",
        "model = Sequential([\n",
        "    # İlk konvolüsyon katmanı\n",
        "    Conv2D(32, (3, 3), activation='relu', input_shape=(128, 128, 3)),\n",
        "    BatchNormalization(),  # Aktivasyon çıktısını normalize et\n",
        "    MaxPooling2D(pool_size=(2, 2)),\n",
        "    Dropout(0.25),  # Overfitting'i azaltmak için dropout\n",
        "\n",
        "    # İkinci konvolüsyon katmanı\n",
        "    Conv2D(64, (3, 3), activation='relu'),\n",
        "    BatchNormalization(),\n",
        "    MaxPooling2D(pool_size=(2, 2)),\n",
        "    Dropout(0.25),\n",
        "\n",
        "    # Üçüncü konvolüsyon katmanı\n",
        "    Conv2D(128, (3, 3), activation='relu'),\n",
        "    BatchNormalization(),\n",
        "    MaxPooling2D(pool_size=(2, 2)),\n",
        "    Dropout(0.3),\n",
        "\n",
        "    # Dördüncü konvolüsyon katmanı\n",
        "    Conv2D(256, (3, 3), activation='relu'),\n",
        "    BatchNormalization(),\n",
        "    MaxPooling2D(pool_size=(2, 2)),\n",
        "    Dropout(0.4),\n",
        "\n",
        "    # Fully connected katmanlar için düzleştirme\n",
        "    Flatten(),\n",
        "\n",
        "    # Tam bağlı katman 1\n",
        "    Dense(256, activation='relu'),\n",
        "    BatchNormalization(),\n",
        "    Dropout(0.5),\n",
        "\n",
        "    # Tam bağlı katman 2\n",
        "    Dense(128, activation='relu'),\n",
        "    BatchNormalization(),\n",
        "    Dropout(0.5),\n",
        "\n",
        "    # Çıkış katmanı (10 sınıf için softmax aktivasyonu)\n",
        "    Dense(10, activation='softmax')\n",
        "])\n",
        "\n",
        "# Modeli derleme\n",
        "model.compile(optimizer='adam',\n",
        "              loss='sparse_categorical_crossentropy',\n",
        "              metrics=['accuracy'])\n",
        "\n",
        "# Modelin özetini yazdır\n",
        "model.summary()"
      ]
    },
    {
      "cell_type": "markdown",
      "metadata": {
        "id": "3hYT5Ob4wmim"
      },
      "source": [
        "# **Adım 7: Modeli Eğitme**"
      ]
    },
    {
      "cell_type": "markdown",
      "metadata": {},
      "source": [
        "Bu kodda, oluşturduğumuz CNN modelini eğitiyoruz.\n",
        "\n",
        "Modeli Eğitiyoruz\n",
        "\n",
        "\t•\tmodel.fit fonksiyonu ile modelimizi eğitim verileri üzerinde çalıştırıyoruz.\n",
        "\t•\tdatagen.flow: Veri artırımı yapılmış eğitim verilerini (X_train ve y_train) modelimize küçük parçalar (batch) halinde gönderiyoruz. Bu, modelin daha verimli öğrenmesini sağlıyor.\n",
        "\t•\tvalidation_data: Test verilerini (X_test ve y_test) modelin doğrulama performansını takip etmek için kullanıyoruz.\n",
        "\n",
        "Eğitim Parametreleri\n",
        "\n",
        "\t•\tbatch_size=32: Eğitim sırasında veriler 32’lik gruplar halinde modele veriliyor.\n",
        "\t•\tepochs=30: Model tüm veri seti üzerinde 30 kez çalıştırılıyor (30 epoch).\n",
        "\t•\tverbose=1: Eğitim sürecinde ilerlemeyi ve doğruluk/kayıp değerlerini görmek için detaylı çıktı alıyoruz.\n",
        "\n",
        "Sonuç\n",
        "\n",
        "\t•\tEğitim tamamlandıktan sonra, model hem eğitim verisiyle hem de doğrulama verisiyle öğrenme performansını kaydediyor. Bu, daha sonra görselleştirme veya analiz için kullanılabilir."
      ]
    },
    {
      "cell_type": "code",
      "execution_count": 10,
      "metadata": {
        "colab": {
          "base_uri": "https://localhost:8080/",
          "height": 382
        },
        "id": "ED5aK1AgwhA5",
        "outputId": "a0151bf8-bf51-4ffc-da48-b2ed2441d86f"
      },
      "outputs": [
        {
          "name": "stdout",
          "output_type": "stream",
          "text": [
            "Epoch 1/30\n"
          ]
        },
        {
          "name": "stderr",
          "output_type": "stream",
          "text": [
            "/opt/homebrew/lib/python3.10/site-packages/keras/src/trainers/data_adapters/py_dataset_adapter.py:121: UserWarning: Your `PyDataset` class should call `super().__init__(**kwargs)` in its constructor. `**kwargs` can include `workers`, `use_multiprocessing`, `max_queue_size`. Do not pass these arguments to `fit()`, as they will be ignored.\n",
            "  self._warn_if_super_not_called()\n"
          ]
        },
        {
          "name": "stdout",
          "output_type": "stream",
          "text": [
            "\u001b[1m143/143\u001b[0m \u001b[32m━━━━━━━━━━━━━━━━━━━━\u001b[0m\u001b[37m\u001b[0m \u001b[1m39s\u001b[0m 262ms/step - accuracy: 0.2078 - loss: 2.8962 - val_accuracy: 0.0969 - val_loss: 4.2624\n",
            "Epoch 2/30\n",
            "\u001b[1m143/143\u001b[0m \u001b[32m━━━━━━━━━━━━━━━━━━━━\u001b[0m\u001b[37m\u001b[0m \u001b[1m35s\u001b[0m 242ms/step - accuracy: 0.2908 - loss: 2.2885 - val_accuracy: 0.1538 - val_loss: 2.9990\n",
            "Epoch 3/30\n",
            "\u001b[1m143/143\u001b[0m \u001b[32m━━━━━━━━━━━━━━━━━━━━\u001b[0m\u001b[37m\u001b[0m \u001b[1m39s\u001b[0m 270ms/step - accuracy: 0.3180 - loss: 1.9885 - val_accuracy: 0.2477 - val_loss: 2.4438\n",
            "Epoch 4/30\n",
            "\u001b[1m143/143\u001b[0m \u001b[32m━━━━━━━━━━━━━━━━━━━━\u001b[0m\u001b[37m\u001b[0m \u001b[1m38s\u001b[0m 269ms/step - accuracy: 0.3783 - loss: 1.8349 - val_accuracy: 0.3482 - val_loss: 1.8127\n",
            "Epoch 5/30\n",
            "\u001b[1m143/143\u001b[0m \u001b[32m━━━━━━━━━━━━━━━━━━━━\u001b[0m\u001b[37m\u001b[0m \u001b[1m38s\u001b[0m 266ms/step - accuracy: 0.3849 - loss: 1.7998 - val_accuracy: 0.2738 - val_loss: 2.2260\n",
            "Epoch 6/30\n",
            "\u001b[1m143/143\u001b[0m \u001b[32m━━━━━━━━━━━━━━━━━━━━\u001b[0m\u001b[37m\u001b[0m \u001b[1m38s\u001b[0m 267ms/step - accuracy: 0.4125 - loss: 1.6862 - val_accuracy: 0.4169 - val_loss: 1.6121\n",
            "Epoch 7/30\n",
            "\u001b[1m143/143\u001b[0m \u001b[32m━━━━━━━━━━━━━━━━━━━━\u001b[0m\u001b[37m\u001b[0m \u001b[1m39s\u001b[0m 273ms/step - accuracy: 0.4562 - loss: 1.5703 - val_accuracy: 0.4364 - val_loss: 1.6079\n",
            "Epoch 8/30\n",
            "\u001b[1m143/143\u001b[0m \u001b[32m━━━━━━━━━━━━━━━━━━━━\u001b[0m\u001b[37m\u001b[0m \u001b[1m40s\u001b[0m 283ms/step - accuracy: 0.4746 - loss: 1.5415 - val_accuracy: 0.3733 - val_loss: 1.7498\n",
            "Epoch 9/30\n",
            "\u001b[1m143/143\u001b[0m \u001b[32m━━━━━━━━━━━━━━━━━━━━\u001b[0m\u001b[37m\u001b[0m \u001b[1m41s\u001b[0m 284ms/step - accuracy: 0.4885 - loss: 1.4718 - val_accuracy: 0.5056 - val_loss: 1.3719\n",
            "Epoch 10/30\n",
            "\u001b[1m143/143\u001b[0m \u001b[32m━━━━━━━━━━━━━━━━━━━━\u001b[0m\u001b[37m\u001b[0m \u001b[1m45s\u001b[0m 312ms/step - accuracy: 0.5255 - loss: 1.4043 - val_accuracy: 0.4159 - val_loss: 1.6581\n",
            "Epoch 11/30\n",
            "\u001b[1m143/143\u001b[0m \u001b[32m━━━━━━━━━━━━━━━━━━━━\u001b[0m\u001b[37m\u001b[0m \u001b[1m47s\u001b[0m 331ms/step - accuracy: 0.5097 - loss: 1.4124 - val_accuracy: 0.4872 - val_loss: 1.4348\n",
            "Epoch 12/30\n",
            "\u001b[1m143/143\u001b[0m \u001b[32m━━━━━━━━━━━━━━━━━━━━\u001b[0m\u001b[37m\u001b[0m \u001b[1m45s\u001b[0m 311ms/step - accuracy: 0.5130 - loss: 1.4008 - val_accuracy: 0.5985 - val_loss: 1.1560\n",
            "Epoch 13/30\n",
            "\u001b[1m143/143\u001b[0m \u001b[32m━━━━━━━━━━━━━━━━━━━━\u001b[0m\u001b[37m\u001b[0m \u001b[1m44s\u001b[0m 310ms/step - accuracy: 0.5323 - loss: 1.3454 - val_accuracy: 0.5744 - val_loss: 1.2018\n",
            "Epoch 14/30\n",
            "\u001b[1m143/143\u001b[0m \u001b[32m━━━━━━━━━━━━━━━━━━━━\u001b[0m\u001b[37m\u001b[0m \u001b[1m43s\u001b[0m 303ms/step - accuracy: 0.5639 - loss: 1.2507 - val_accuracy: 0.5913 - val_loss: 1.1633\n",
            "Epoch 15/30\n",
            "\u001b[1m143/143\u001b[0m \u001b[32m━━━━━━━━━━━━━━━━━━━━\u001b[0m\u001b[37m\u001b[0m \u001b[1m45s\u001b[0m 313ms/step - accuracy: 0.5618 - loss: 1.2730 - val_accuracy: 0.5585 - val_loss: 1.2518\n",
            "Epoch 16/30\n",
            "\u001b[1m143/143\u001b[0m \u001b[32m━━━━━━━━━━━━━━━━━━━━\u001b[0m\u001b[37m\u001b[0m \u001b[1m45s\u001b[0m 318ms/step - accuracy: 0.5774 - loss: 1.2059 - val_accuracy: 0.5600 - val_loss: 1.2725\n",
            "Epoch 17/30\n",
            "\u001b[1m143/143\u001b[0m \u001b[32m━━━━━━━━━━━━━━━━━━━━\u001b[0m\u001b[37m\u001b[0m \u001b[1m44s\u001b[0m 310ms/step - accuracy: 0.5973 - loss: 1.1667 - val_accuracy: 0.5518 - val_loss: 1.3019\n",
            "Epoch 18/30\n",
            "\u001b[1m143/143\u001b[0m \u001b[32m━━━━━━━━━━━━━━━━━━━━\u001b[0m\u001b[37m\u001b[0m \u001b[1m45s\u001b[0m 315ms/step - accuracy: 0.6141 - loss: 1.1455 - val_accuracy: 0.5636 - val_loss: 1.2812\n",
            "Epoch 19/30\n",
            "\u001b[1m143/143\u001b[0m \u001b[32m━━━━━━━━━━━━━━━━━━━━\u001b[0m\u001b[37m\u001b[0m \u001b[1m45s\u001b[0m 314ms/step - accuracy: 0.6094 - loss: 1.1384 - val_accuracy: 0.7031 - val_loss: 0.8477\n",
            "Epoch 20/30\n",
            "\u001b[1m143/143\u001b[0m \u001b[32m━━━━━━━━━━━━━━━━━━━━\u001b[0m\u001b[37m\u001b[0m \u001b[1m46s\u001b[0m 320ms/step - accuracy: 0.6344 - loss: 1.0800 - val_accuracy: 0.5292 - val_loss: 1.4605\n",
            "Epoch 21/30\n",
            "\u001b[1m143/143\u001b[0m \u001b[32m━━━━━━━━━━━━━━━━━━━━\u001b[0m\u001b[37m\u001b[0m \u001b[1m46s\u001b[0m 319ms/step - accuracy: 0.6127 - loss: 1.0899 - val_accuracy: 0.5759 - val_loss: 1.2671\n",
            "Epoch 22/30\n",
            "\u001b[1m143/143\u001b[0m \u001b[32m━━━━━━━━━━━━━━━━━━━━\u001b[0m\u001b[37m\u001b[0m \u001b[1m44s\u001b[0m 306ms/step - accuracy: 0.6289 - loss: 1.0919 - val_accuracy: 0.6836 - val_loss: 0.9406\n",
            "Epoch 23/30\n",
            "\u001b[1m143/143\u001b[0m \u001b[32m━━━━━━━━━━━━━━━━━━━━\u001b[0m\u001b[37m\u001b[0m \u001b[1m46s\u001b[0m 325ms/step - accuracy: 0.6510 - loss: 1.0503 - val_accuracy: 0.5190 - val_loss: 1.4779\n",
            "Epoch 24/30\n",
            "\u001b[1m143/143\u001b[0m \u001b[32m━━━━━━━━━━━━━━━━━━━━\u001b[0m\u001b[37m\u001b[0m \u001b[1m47s\u001b[0m 328ms/step - accuracy: 0.6464 - loss: 1.0276 - val_accuracy: 0.5097 - val_loss: 1.5973\n",
            "Epoch 25/30\n",
            "\u001b[1m143/143\u001b[0m \u001b[32m━━━━━━━━━━━━━━━━━━━━\u001b[0m\u001b[37m\u001b[0m \u001b[1m43s\u001b[0m 304ms/step - accuracy: 0.6641 - loss: 1.0072 - val_accuracy: 0.4733 - val_loss: 1.6116\n",
            "Epoch 26/30\n",
            "\u001b[1m143/143\u001b[0m \u001b[32m━━━━━━━━━━━━━━━━━━━━\u001b[0m\u001b[37m\u001b[0m \u001b[1m44s\u001b[0m 305ms/step - accuracy: 0.6546 - loss: 0.9782 - val_accuracy: 0.4349 - val_loss: 1.8436\n",
            "Epoch 27/30\n",
            "\u001b[1m143/143\u001b[0m \u001b[32m━━━━━━━━━━━━━━━━━━━━\u001b[0m\u001b[37m\u001b[0m \u001b[1m44s\u001b[0m 309ms/step - accuracy: 0.6573 - loss: 1.0010 - val_accuracy: 0.7082 - val_loss: 0.8499\n",
            "Epoch 28/30\n",
            "\u001b[1m143/143\u001b[0m \u001b[32m━━━━━━━━━━━━━━━━━━━━\u001b[0m\u001b[37m\u001b[0m \u001b[1m44s\u001b[0m 306ms/step - accuracy: 0.6760 - loss: 0.9399 - val_accuracy: 0.5441 - val_loss: 1.3665\n",
            "Epoch 29/30\n",
            "\u001b[1m143/143\u001b[0m \u001b[32m━━━━━━━━━━━━━━━━━━━━\u001b[0m\u001b[37m\u001b[0m \u001b[1m45s\u001b[0m 312ms/step - accuracy: 0.6787 - loss: 0.9498 - val_accuracy: 0.6441 - val_loss: 1.0936\n",
            "Epoch 30/30\n",
            "\u001b[1m143/143\u001b[0m \u001b[32m━━━━━━━━━━━━━━━━━━━━\u001b[0m\u001b[37m\u001b[0m \u001b[1m45s\u001b[0m 314ms/step - accuracy: 0.6990 - loss: 0.9322 - val_accuracy: 0.5472 - val_loss: 1.4550\n",
            "Eğitim tamamlandı!\n"
          ]
        }
      ],
      "source": [
        "# Eğitim\n",
        "history = model.fit(\n",
        "    datagen.flow(X_train, y_train, batch_size=32),\n",
        "    validation_data=(X_test, y_test),\n",
        "    epochs=30,\n",
        "    verbose=1\n",
        ")\n",
        "\n",
        "print(\"Eğitim tamamlandı!\")"
      ]
    },
    {
      "cell_type": "markdown",
      "metadata": {
        "id": "TTiTVSrPA1Rc"
      },
      "source": [
        "# **Adım 8: Performansı Görselleştirme**"
      ]
    },
    {
      "cell_type": "markdown",
      "metadata": {},
      "source": [
        "Bu adımda, modelin eğitim sürecinde kaydedilen doğruluk ve kayıp değerlerini görselleştiriyoruz.\n",
        "\n",
        "Doğruluk Değerlerini Çiziyoruz\n",
        "\n",
        "\t•\tEğitim (accuracy) ve doğrulama (val_accuracy) doğruluklarını epoch’lara (eğitim döngüleri) göre çiziyoruz.\n",
        "\tAmaç: Modelin zamanla nasıl öğrendiğini ve doğrulama verisindeki performansını karşılaştırmak.\n",
        "\t•\tBu grafik, modelin öğrenme sürecini ve aşırı öğrenme (overfitting) olup olmadığını anlamamıza yardımcı olur.\n",
        "\n",
        "Kayıp Değerlerini Çiziyoruz\n",
        "\n",
        "\t•\tEğitim (loss) ve doğrulama (val_loss) kayıplarını epoch’lara göre çiziyoruz.\n",
        "\tAmaç: Modelin hata oranını ve doğrulama verisindeki genel performansı incelemek.\n",
        "\t•\tKayıp değerleri, modelin optimizasyon sürecinin ne kadar başarılı olduğunu gösterir. Eğitim ve doğrulama kayıpları arasındaki büyük fark, overfitting işareti olabilir.\n",
        "\n",
        "Grafiklerin Özellikleri\n",
        "\n",
        "\t•\tplt.plot: Doğruluk ve kayıp değerlerini epoch’lara göre çiziyoruz.\n",
        "\t•\tplt.xlabel ve plt.ylabel: Grafiklerin eksenlerini etiketliyoruz.\n",
        "\t•\tplt.legend: Hangi eğrinin neyi temsil ettiğini belirtiyoruz.\n",
        "\t•\tplt.title: Grafiklere başlık ekliyoruz.\n",
        "\n",
        "Sonuç\n",
        "\n",
        "    Bu görseller, modelimizin eğitim sürecini analiz etmemize olanak tanır. Eğitim ve doğrulama doğruluğu/kayıpları paralel bir şekilde artıyor veya azalıyor mu, overfitting belirtileri var mı gibi sorulara bu grafiklerle cevap bulabiliriz."
      ]
    },
    {
      "cell_type": "code",
      "execution_count": 11,
      "metadata": {
        "colab": {
          "base_uri": "https://localhost:8080/",
          "height": 927
        },
        "id": "Ep8AbpFMwuCo",
        "outputId": "8472d63b-54d1-4ccf-c565-296a2bfb17a2"
      },
      "outputs": [
        {
          "data": {
            "image/png": "[encoded data removed]",
            "text/plain": [
              "<Figure size 640x480 with 1 Axes>"
            ]
          },
          "metadata": {},
          "output_type": "display_data"
        },
        {
          "data": {
            "image/png": "[encoded data removed]",
            "text/plain": [
              "<Figure size 640x480 with 1 Axes>"
            ]
          },
          "metadata": {},
          "output_type": "display_data"
        }
      ],
      "source": [
        "import matplotlib.pyplot as plt\n",
        "\n",
        "# Eğitim ve doğrulama doğruluklarını çizme\n",
        "plt.plot(history.history['accuracy'], label='Eğitim Doğruluğu')\n",
        "plt.plot(history.history['val_accuracy'], label='Doğrulama Doğruluğu')\n",
        "plt.xlabel('Epoch')\n",
        "plt.ylabel('Doğruluk')\n",
        "plt.title('Eğitim ve Doğrulama Doğruluğu')\n",
        "plt.legend()\n",
        "plt.show()\n",
        "\n",
        "# Eğitim ve doğrulama kayıplarını çizme\n",
        "plt.plot(history.history['loss'], label='Eğitim Kaybı')\n",
        "plt.plot(history.history['val_loss'], label='Doğrulama Kaybı')\n",
        "plt.xlabel('Epoch')\n",
        "plt.ylabel('Kayıp')\n",
        "plt.title('Eğitim ve Doğrulama Kaybı')\n",
        "plt.legend()\n",
        "plt.show()"
      ]
    },
    {
      "cell_type": "markdown",
      "metadata": {
        "id": "7PszmohCA_pN"
      },
      "source": [
        "# **Adım 9: Modeli Test Etme**"
      ]
    },
    {
      "cell_type": "code",
      "execution_count": 12,
      "metadata": {
        "colab": {
          "base_uri": "https://localhost:8080/"
        },
        "id": "gkW9S4HxA6N3",
        "outputId": "c1949b9e-8366-4843-e464-442461225791"
      },
      "outputs": [
        {
          "name": "stdout",
          "output_type": "stream",
          "text": [
            "\u001b[1m61/61\u001b[0m \u001b[32m━━━━━━━━━━━━━━━━━━━━\u001b[0m\u001b[37m\u001b[0m \u001b[1m3s\u001b[0m 44ms/step - accuracy: 0.5391 - loss: 1.4918\n",
            "Test Doğruluğu: 54.72%\n",
            "Test Kaybı: 1.4550\n"
          ]
        }
      ],
      "source": [
        "# Test verisi üzerinde modelin doğruluğunu değerlendirme\n",
        "test_loss, test_accuracy = model.evaluate(X_test, y_test, verbose=1)\n",
        "print(f\"Test Doğruluğu: {test_accuracy * 100:.2f}%\")\n",
        "print(f\"Test Kaybı: {test_loss:.4f}\")"
      ]
    },
    {
      "cell_type": "markdown",
      "metadata": {
        "id": "MHyiPcpcKTlv"
      },
      "source": [
        "# **Adım 10: Test Setine Manipülasyon Uygulama**"
      ]
    },
    {
      "cell_type": "markdown",
      "metadata": {},
      "source": [
        "### Manipülasyonun Genel Amacı:\n",
        "\n",
        "Bu adımda, test setindeki her bir görüntüye iki farklı parlaklık manipülasyonu uygulayarak veri artırımı yapıyoruz. Bu manipülasyonlar, test verisini çeşitlendirmek ve modelin daha iyi genelleme yapabilmesini sağlamak için kullanılır. Sonuçta, test verisinin boyutu artırılarak modelin daha sağlam test edilmesi sağlanır.\n",
        "\n",
        "### Kodun İşleyişi:\n",
        "\n",
        "manipulate_images Fonksiyonu: Bu fonksiyon, bir görüntü seti alır ve her görüntü üzerinde iki çeşit parlaklık manipülasyonu uygular:\n",
        "\n",
        "\t•\tParlaklığı artırma: Görüntülerin parlaklık seviyesini artırarak ışıklı koşullarda modelin nasıl performans gösterdiği incelenir.\n",
        "\t•\tParlaklığı azaltma: Görüntülerin parlaklık seviyesini azaltarak karanlık koşullarda modelin nasıl performans gösterdiği test edilir.\n",
        "    Fonksiyon, her iki manipülasyonu uyguladıktan sonra manipüle edilmiş görüntüleri bir listeye ekler ve son olarak bu listeyi bir NumPy dizisine dönüştürüp geri döndürür.\n",
        "\n",
        "manipulate_images(X_test) Çağrısı:\n",
        "\n",
        "\t•\tBurada, test seti olan X_test üzerinde manipulate_images fonksiyonu çağrılır. Bu işlem, her görüntü için parlaklık manipülasyonlarını uygular ve manipüle edilmiş test setini oluşturur.\n",
        "\n",
        "Sonuç Yazdırma:\n",
        "\n",
        "\t•\tManipülasyon işleminin tamamlandığını doğrulamak için, manipüle edilmiş test setinin boyutunu ekrana yazdırır. Bu, kaç adet görüntü olduğunu ve test setinin büyüklüğünün nasıl değiştiğini gösterir."
      ]
    },
    {
      "cell_type": "code",
      "execution_count": 13,
      "metadata": {
        "colab": {
          "base_uri": "https://localhost:8080/"
        },
        "id": "ihQ_DNW5KW2E",
        "outputId": "44100764-76aa-4864-a544-4f1fed0cb807"
      },
      "outputs": [
        {
          "name": "stdout",
          "output_type": "stream",
          "text": [
            "Manipüle edilmiş test seti oluşturuldu: (3900, 128, 128, 3)\n"
          ]
        }
      ],
      "source": [
        "def manipulate_images(image_set):\n",
        "    manipulated_images = []\n",
        "    for img in image_set:\n",
        "        # Parlaklığı artırma\n",
        "        bright_img = cv2.convertScaleAbs(img, alpha=1.1, beta=30)\n",
        "        manipulated_images.append(bright_img)\n",
        "\n",
        "        # Parlaklığı azaltma\n",
        "        dark_img = cv2.convertScaleAbs(img, alpha=0.9, beta=-20)\n",
        "        manipulated_images.append(dark_img)\n",
        "\n",
        "    return np.array(manipulated_images)\n",
        "\n",
        "\n",
        "# Test setine manipülasyon uygula\n",
        "manipulated_X_test = manipulate_images(X_test)\n",
        "print(f\"Manipüle edilmiş test seti oluşturuldu: {manipulated_X_test.shape}\")"
      ]
    },
    {
      "cell_type": "markdown",
      "metadata": {
        "id": "176xHnEpLB8H"
      },
      "source": [
        "# **Adım 11: Manipüle Edilmiş Görüntüler ile Modeli Test Etme**"
      ]
    },
    {
      "cell_type": "markdown",
      "metadata": {},
      "source": [
        "Bu adımda, test verisinde yapılan parlaklık manipülasyonlarına uygun olarak etiketleri çoğaltıyor ve ardından manipüle edilmiş test seti üzerinde modelin doğruluğunu ve kaybını değerlendiriyoruz. Bu sayede, modelin daha geniş ve çeşitlendirilmiş veri setlerine karşı nasıl performans gösterdiğini anlıyoruz"
      ]
    },
    {
      "cell_type": "code",
      "execution_count": 14,
      "metadata": {
        "colab": {
          "base_uri": "https://localhost:8080/",
          "height": 216
        },
        "id": "0ynfmxI0LFys",
        "outputId": "4323048d-b8cf-4ce1-944e-c1e5a4aa7b87"
      },
      "outputs": [
        {
          "name": "stdout",
          "output_type": "stream",
          "text": [
            "Manipüle edilmiş test etiketleri oluşturuldu: (3900,)\n",
            "\u001b[1m122/122\u001b[0m \u001b[32m━━━━━━━━━━━━━━━━━━━━\u001b[0m\u001b[37m\u001b[0m \u001b[1m7s\u001b[0m 53ms/step - accuracy: 0.1057 - loss: 53.3565\n",
            "Manipüle Edilmiş Test Doğruluğu: 9.79%\n",
            "Manipüle Edilmiş Test Kaybı: 53.5792\n"
          ]
        }
      ],
      "source": [
        "# Etiketleri manipüle edilmiş görüntülerle eşleştirme\n",
        "# Burada, her bir orijinal görüntüye 3 manipülasyon uyguladığımız için y_test'i 3 kez çoğaltmamız gerekir.\n",
        "manipulated_y_test = np.tile(y_test, 2)\n",
        "\n",
        "print(f\"Manipüle edilmiş test etiketleri oluşturuldu: {manipulated_y_test.shape}\")\n",
        "\n",
        "# Manipüle edilmiş test setinde modelin doğruluğunu ölç\n",
        "manipulated_test_loss, manipulated_test_accuracy = model.evaluate(manipulated_X_test, manipulated_y_test, verbose=1)\n",
        "print(f\"Manipüle Edilmiş Test Doğruluğu: {manipulated_test_accuracy * 100:.2f}%\")\n",
        "print(f\"Manipüle Edilmiş Test Kaybı: {manipulated_test_loss:.4f}\")"
      ]
    },
    {
      "cell_type": "markdown",
      "metadata": {},
      "source": [
        "# **Adım 12: Manipüle Edilmiş Veri Setine Renk Sabitliği Algoritması Uygulanması**"
      ]
    },
    {
      "cell_type": "markdown",
      "metadata": {},
      "source": [
        "Bu adımda, test setindeki manipüle edilmiş görüntülere Gray World algoritması ile renk sabitleme işlemi uyguluyoruz. Algoritma, her renk kanalının ortalamasını alıp, tüm kanalların ortalamasına çekerek renk dengesini sağlar.\n",
        "\n",
        "Kodun işleyişi:\n",
        "\n",
        "\t1.Gray World Algoritması her bir kanalın ortalamasını hesaplayıp, kanal bazında dengeleme yapar.\n",
        "\t2.apply_color_balance_to_dataset fonksiyonu, manipüle edilmiş test setindeki her görüntüye renk sabitleme uygular.\n",
        "\n",
        "Sonuç olarak, renk sabitlemesi yapılmış yeni bir test seti (balanced_manipulated_X_test) oluşturulur."
      ]
    },
    {
      "cell_type": "code",
      "execution_count": 15,
      "metadata": {},
      "outputs": [
        {
          "name": "stdout",
          "output_type": "stream",
          "text": [
            "Renk sabitliği uygulanmış manipüle edilmiş veri seti oluşturuldu: (3900, 128, 128, 3)\n"
          ]
        }
      ],
      "source": [
        "def gray_world_balance(image):\n",
        "    \"\"\"\n",
        "    Gray World algoritması ile renk sabitliği uygular.\n",
        "    \"\"\"\n",
        "    # Görüntünün her renk kanalının ortalamasını hesapla\n",
        "    avg_b = np.mean(image[:, :, 0])  # Mavi kanal\n",
        "    avg_g = np.mean(image[:, :, 1])  # Yeşil kanal\n",
        "    avg_r = np.mean(image[:, :, 2])  # Kırmızı kanal\n",
        "\n",
        "    # Tüm kanalların ortalamasını bul\n",
        "    avg = (avg_b + avg_g + avg_r) / 3\n",
        "\n",
        "    # Kanal bazında dengeleme yap\n",
        "    image[:, :, 0] = np.clip(image[:, :, 0] * (avg / avg_b), 0, 255)  # Mavi\n",
        "    image[:, :, 1] = np.clip(image[:, :, 1] * (avg / avg_g), 0, 255)  # Yeşil\n",
        "    image[:, :, 2] = np.clip(image[:, :, 2] * (avg / avg_r), 0, 255)  # Kırmızı\n",
        "\n",
        "    return image.astype(np.uint8)  # Görüntüyü uint8 formatına çevir\n",
        "\n",
        "def apply_color_balance_to_dataset(image_set):\n",
        "    \"\"\"\n",
        "    Veri setindeki tüm görüntülere renk sabitliği uygular.\n",
        "    \"\"\"\n",
        "    balanced_images = []\n",
        "    for img in image_set:\n",
        "        balanced_img = gray_world_balance(img)\n",
        "        balanced_images.append(balanced_img)\n",
        "    return np.array(balanced_images)\n",
        "\n",
        "# Manipüle edilmiş test setine renk sabitliği uygula\n",
        "balanced_manipulated_X_test = apply_color_balance_to_dataset(manipulated_X_test)\n",
        "\n",
        "print(f\"Renk sabitliği uygulanmış manipüle edilmiş veri seti oluşturuldu: {balanced_manipulated_X_test.shape}\")"
      ]
    },
    {
      "cell_type": "markdown",
      "metadata": {},
      "source": [
        "# **Adım 13: Modelin Renk Sabitliği Uygulanmış Test Seti ile Denenmesi**"
      ]
    },
    {
      "cell_type": "markdown",
      "metadata": {},
      "source": [
        "Bu adımda, renk sabitlemesi yapılmış ve manipüle edilmiş test setiyle modelin doğruluğunu test ediyoruz. Etiketler her görüntü için iki katına çıkarılıyor çünkü her görüntüye iki manipülasyon uygulanıyor. Model tahminlerini yapar ve doğru etiketlerle karşılaştırarak doğruluğu hesaplar. Sonuç, modelin doğruluğu olarak yazdırılıyor."
      ]
    },
    {
      "cell_type": "code",
      "execution_count": 24,
      "metadata": {},
      "outputs": [
        {
          "name": "stdout",
          "output_type": "stream",
          "text": [
            "Manipüle edilmiş etiketlerin boyutu: (3900,)\n",
            "\u001b[1m122/122\u001b[0m \u001b[32m━━━━━━━━━━━━━━━━━━━━\u001b[0m\u001b[37m\u001b[0m \u001b[1m5s\u001b[0m 44ms/step\n",
            "Renk sabitliği yapılmış manipüle edilmiş test seti doğruluğu: 9.79%\n"
          ]
        }
      ],
      "source": [
        "# Manipüle edilmiş veri setine uygun şekilde etiketleri genişlet\n",
        "manipulated_labels = np.repeat(y_test, 2)  # Her bir görüntü için 2 manipülasyon yapıldığını varsayıyoruz\n",
        "\n",
        "print(f\"Manipüle edilmiş etiketlerin boyutu: {manipulated_labels.shape}\")\n",
        "\n",
        "# Modeli manipüle edilmiş veri setiyle test et\n",
        "predictions = model.predict(balanced_manipulated_X_test)\n",
        "predicted_labels = np.argmax(predictions, axis=1)\n",
        "\n",
        "# Doğruluğu hesapla\n",
        "accuracy = np.mean(predicted_labels == manipulated_labels)\n",
        "print(f\"Renk sabitliği yapılmış manipüle edilmiş test seti doğruluğu: {accuracy * 100:.2f}%\")"
      ]
    }
  ],
  "metadata": {
    "colab": {
      "provenance": []
    },
    "kernelspec": {
      "display_name": "Python 3",
      "language": "python",
      "name": "python3"
    },
    "language_info": {
      "codemirror_mode": {
        "name": "ipython",
        "version": 3
      },
      "file_extension": ".py",
      "mimetype": "text/x-python",
      "name": "python",
      "nbconvert_exporter": "python",
      "pygments_lexer": "ipython3",
      "version": "3.10.16"
    }
  },
  "nbformat": 4,
  "nbformat_minor": 0
}
